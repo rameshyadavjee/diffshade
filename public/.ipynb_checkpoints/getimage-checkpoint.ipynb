{
 "cells": [
  {
   "cell_type": "code",
   "execution_count": null,
   "id": "ef0752f3-89a1-4677-a16d-56aff3009426",
   "metadata": {},
   "outputs": [],
   "source": [
    "import cv2\n",
    "import tkinter as tk\n",
    "from tkinter import messagebox\n",
    "from datetime import datetime\n",
    "\n",
    "def capture_image():\n",
    "    cap = cv2.VideoCapture(rtsp_link)\n",
    "    ret, frame = cap.read()\n",
    "    if ret:\n",
    "        # Resize the frame to the desired width and height\n",
    "        desired_width = 1920  # Set your desired width\n",
    "        desired_height = 1080  # Set your desired height\n",
    "        resized_frame = cv2.resize(frame, (desired_width, desired_height))\n",
    "        \n",
    "        # Generate a filename with the current date and time\n",
    "        timestamp = datetime.now().strftime(\"%Y%m%d_%H%M%S\")\n",
    "        filename = f\"{timestamp}.jpg\"\n",
    "        cv2.imwrite(filename, resized_frame)\n",
    "        #messagebox.showinfo(\"Success\", f\"Image captured successfully! Saved as {filename}\")\n",
    "    else:\n",
    "        messagebox.showerror(\"Error\", \"Failed to capture image.\")\n",
    "    cap.release()\n",
    "\n",
    "rtsp_link = \"rtsp://888888:@103.1.101.205:566/cam/realmonitor?channel=6&subtype=0\"\n",
    "\n",
    "root = tk.Tk()\n",
    "root.title(\"RTSP Image Capture\")\n",
    "\n",
    "capture_button = tk.Button(root, text=\"Capture Image\", command=capture_image)\n",
    "capture_button.pack(pady=20)\n",
    "\n",
    "root.mainloop()\n"
   ]
  },
  {
   "cell_type": "code",
   "execution_count": null,
   "id": "7c883230-3206-4d38-aeb9-d5bf463f5bf8",
   "metadata": {},
   "outputs": [],
   "source": []
  }
 ],
 "metadata": {
  "kernelspec": {
   "display_name": "Python 3 (ipykernel)",
   "language": "python",
   "name": "python3"
  },
  "language_info": {
   "codemirror_mode": {
    "name": "ipython",
    "version": 3
   },
   "file_extension": ".py",
   "mimetype": "text/x-python",
   "name": "python",
   "nbconvert_exporter": "python",
   "pygments_lexer": "ipython3",
   "version": "3.12.2"
  }
 },
 "nbformat": 4,
 "nbformat_minor": 5
}
