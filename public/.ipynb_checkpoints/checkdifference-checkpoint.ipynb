{
 "cells": [
  {
   "cell_type": "code",
   "execution_count": 27,
   "id": "e02e50a3-28bd-42e2-b44a-9865c901b7c8",
   "metadata": {},
   "outputs": [
    {
     "data": {
      "text/plain": [
       "'C:\\\\laragon\\\\www\\\\diffshade\\\\public\\\\practice\\\\differences_subtraction.jpg'"
      ]
     },
     "execution_count": 27,
     "metadata": {},
     "output_type": "execute_result"
    }
   ],
   "source": [
    "import cv2\n",
    "import imutils\n",
    "import numpy as np\n",
    "from datetime import datetime\n",
    "from skimage.metrics import structural_similarity as compare_ssim\n",
    "\t\t\n",
    "img1 = cv2.imread('C:\\\\laragon\\\\www\\\\diffshade\\\\public\\\\practice\\\\1.jpg')\n",
    "img2 = cv2.imread('C:\\\\laragon\\\\www\\\\diffshade\\\\public\\\\practice\\\\original.jpg')\n",
    "\n",
    "# Resize the images to the same size\n",
    "img1 = cv2.resize(img1, (364, 344))\n",
    "img2 = cv2.resize(img2, (364, 344))\n",
    "\n",
    "# Get the height of the images\n",
    "img_height = img1.shape[0]\n",
    "\n",
    "# Convert images to grayscale\n",
    "gray1 = cv2.cvtColor(img1, cv2.COLOR_BGR2GRAY)\n",
    "gray2 = cv2.cvtColor(img2, cv2.COLOR_BGR2GRAY)\n",
    "\n",
    "# Find the absolute difference between the two images\n",
    "diff = cv2.absdiff(gray1, gray2)\n",
    "\n",
    "# Apply threshold to get a binary image\n",
    "thresh = cv2.threshold(diff, 30, 255, cv2.THRESH_BINARY)[1]\n",
    "\n",
    "# Dilate the threshold image to fill in holes, making contours easier to find\n",
    "dilate = cv2.dilate(thresh, None, iterations=2)\n",
    "\n",
    "# Find contours in the threshold image\n",
    "contours, _ = cv2.findContours(dilate.copy(), cv2.RETR_EXTERNAL, cv2.CHAIN_APPROX_SIMPLE)\n",
    "\n",
    "# Loop over the contours\n",
    "for contour in contours:\n",
    "    if cv2.contourArea(contour) > 100:\n",
    "        # Calculate the bounding box for the contour\n",
    "        x, y, w, h = cv2.boundingRect(contour)\n",
    "        # Draw the bounding box on both images\n",
    "        cv2.rectangle(img1, (x, y), (x + w, y + h), (0, 0, 255), 2)\n",
    "        cv2.rectangle(img2, (x, y), (x + w, y + h), (0, 0, 255), 2)\n",
    "\n",
    "# Create a black separator image\n",
    "separator = np.zeros((img1.shape[0], 10, 3), np.uint8)\n",
    "\n",
    "# Stack the images horizontally with the separator in between\n",
    "result = np.hstack((img1, separator, img2))\n",
    "\n",
    "# Save the result image\n",
    "result_path = 'C:\\\\laragon\\\\www\\\\diffshade\\\\public\\\\practice\\\\differences_subtraction.jpg'\n",
    "cv2.imwrite(result_path, result)\n",
    "\n",
    "result_path"
   ]
  }
 ],
 "metadata": {
  "kernelspec": {
   "display_name": "Python 3 (ipykernel)",
   "language": "python",
   "name": "python3"
  },
  "language_info": {
   "codemirror_mode": {
    "name": "ipython",
    "version": 3
   },
   "file_extension": ".py",
   "mimetype": "text/x-python",
   "name": "python",
   "nbconvert_exporter": "python",
   "pygments_lexer": "ipython3",
   "version": "3.12.2"
  }
 },
 "nbformat": 4,
 "nbformat_minor": 5
}
